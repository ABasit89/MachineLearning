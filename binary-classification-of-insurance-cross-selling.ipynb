{
 "cells": [
  {
   "cell_type": "code",
   "execution_count": 1,
   "id": "b0a03a03",
   "metadata": {
    "execution": {
     "iopub.execute_input": "2024-07-18T16:55:32.328317Z",
     "iopub.status.busy": "2024-07-18T16:55:32.327869Z",
     "iopub.status.idle": "2024-07-18T16:55:32.342087Z",
     "shell.execute_reply": "2024-07-18T16:55:32.340866Z"
    },
    "papermill": {
     "duration": 0.026283,
     "end_time": "2024-07-18T16:55:32.344598",
     "exception": false,
     "start_time": "2024-07-18T16:55:32.318315",
     "status": "completed"
    },
    "tags": []
   },
   "outputs": [],
   "source": [
    "# !python -Xfrozen_modules=off -m ipykernel kernel install --user --name python3\n",
    "%config Completer.use_jedi = False"
   ]
  },
  {
   "cell_type": "code",
   "execution_count": 2,
   "id": "f5caa3a1",
   "metadata": {
    "execution": {
     "iopub.execute_input": "2024-07-18T16:55:32.360836Z",
     "iopub.status.busy": "2024-07-18T16:55:32.360378Z",
     "iopub.status.idle": "2024-07-18T16:55:34.700535Z",
     "shell.execute_reply": "2024-07-18T16:55:34.699431Z"
    },
    "papermill": {
     "duration": 2.35089,
     "end_time": "2024-07-18T16:55:34.702981",
     "exception": false,
     "start_time": "2024-07-18T16:55:32.352091",
     "status": "completed"
    },
    "tags": []
   },
   "outputs": [],
   "source": [
    "import pandas as pd\n",
    "import numpy as np\n",
    "import seaborn as sns\n",
    "import matplotlib.pyplot as plt\n",
    "\n",
    "from sklearn.model_selection import train_test_split\n",
    "from sklearn.preprocessing import MinMaxScaler\n",
    "\n",
    "from sklearn.naive_bayes import GaussianNB\n",
    "\n",
    "from sklearn.metrics import recall_score, precision_score, f1_score, accuracy_score, roc_auc_score, roc_curve\n",
    "from sklearn.metrics import confusion_matrix, ConfusionMatrixDisplay"
   ]
  },
  {
   "cell_type": "code",
   "execution_count": 3,
   "id": "7e5e6946",
   "metadata": {
    "execution": {
     "iopub.execute_input": "2024-07-18T16:55:34.719574Z",
     "iopub.status.busy": "2024-07-18T16:55:34.719029Z",
     "iopub.status.idle": "2024-07-18T16:56:08.661767Z",
     "shell.execute_reply": "2024-07-18T16:56:08.660649Z"
    },
    "papermill": {
     "duration": 33.953846,
     "end_time": "2024-07-18T16:56:08.664365",
     "exception": false,
     "start_time": "2024-07-18T16:55:34.710519",
     "status": "completed"
    },
    "tags": []
   },
   "outputs": [],
   "source": [
    "df = pd.read_csv('/kaggle/input/playground-series-s4e7/train.csv')\n",
    "df_test = pd.read_csv('/kaggle/input/playground-series-s4e7/test.csv')\n",
    "df_submission = pd.read_csv('/kaggle/input/playground-series-s4e7/sample_submission.csv')"
   ]
  },
  {
   "cell_type": "code",
   "execution_count": 4,
   "id": "27543e76",
   "metadata": {
    "execution": {
     "iopub.execute_input": "2024-07-18T16:56:08.681455Z",
     "iopub.status.busy": "2024-07-18T16:56:08.680792Z",
     "iopub.status.idle": "2024-07-18T16:56:08.708224Z",
     "shell.execute_reply": "2024-07-18T16:56:08.707140Z"
    },
    "papermill": {
     "duration": 0.038301,
     "end_time": "2024-07-18T16:56:08.710682",
     "exception": false,
     "start_time": "2024-07-18T16:56:08.672381",
     "status": "completed"
    },
    "tags": []
   },
   "outputs": [
    {
     "data": {
      "text/html": [
       "<div>\n",
       "<style scoped>\n",
       "    .dataframe tbody tr th:only-of-type {\n",
       "        vertical-align: middle;\n",
       "    }\n",
       "\n",
       "    .dataframe tbody tr th {\n",
       "        vertical-align: top;\n",
       "    }\n",
       "\n",
       "    .dataframe thead th {\n",
       "        text-align: right;\n",
       "    }\n",
       "</style>\n",
       "<table border=\"1\" class=\"dataframe\">\n",
       "  <thead>\n",
       "    <tr style=\"text-align: right;\">\n",
       "      <th></th>\n",
       "      <th>id</th>\n",
       "      <th>Gender</th>\n",
       "      <th>Age</th>\n",
       "      <th>Driving_License</th>\n",
       "      <th>Region_Code</th>\n",
       "      <th>Previously_Insured</th>\n",
       "      <th>Vehicle_Age</th>\n",
       "      <th>Vehicle_Damage</th>\n",
       "      <th>Annual_Premium</th>\n",
       "      <th>Policy_Sales_Channel</th>\n",
       "      <th>Vintage</th>\n",
       "      <th>Response</th>\n",
       "    </tr>\n",
       "  </thead>\n",
       "  <tbody>\n",
       "    <tr>\n",
       "      <th>0</th>\n",
       "      <td>0</td>\n",
       "      <td>Male</td>\n",
       "      <td>21</td>\n",
       "      <td>1</td>\n",
       "      <td>35.0</td>\n",
       "      <td>0</td>\n",
       "      <td>1-2 Year</td>\n",
       "      <td>Yes</td>\n",
       "      <td>65101.0</td>\n",
       "      <td>124.0</td>\n",
       "      <td>187</td>\n",
       "      <td>0</td>\n",
       "    </tr>\n",
       "    <tr>\n",
       "      <th>1</th>\n",
       "      <td>1</td>\n",
       "      <td>Male</td>\n",
       "      <td>43</td>\n",
       "      <td>1</td>\n",
       "      <td>28.0</td>\n",
       "      <td>0</td>\n",
       "      <td>&gt; 2 Years</td>\n",
       "      <td>Yes</td>\n",
       "      <td>58911.0</td>\n",
       "      <td>26.0</td>\n",
       "      <td>288</td>\n",
       "      <td>1</td>\n",
       "    </tr>\n",
       "    <tr>\n",
       "      <th>2</th>\n",
       "      <td>2</td>\n",
       "      <td>Female</td>\n",
       "      <td>25</td>\n",
       "      <td>1</td>\n",
       "      <td>14.0</td>\n",
       "      <td>1</td>\n",
       "      <td>&lt; 1 Year</td>\n",
       "      <td>No</td>\n",
       "      <td>38043.0</td>\n",
       "      <td>152.0</td>\n",
       "      <td>254</td>\n",
       "      <td>0</td>\n",
       "    </tr>\n",
       "    <tr>\n",
       "      <th>3</th>\n",
       "      <td>3</td>\n",
       "      <td>Female</td>\n",
       "      <td>35</td>\n",
       "      <td>1</td>\n",
       "      <td>1.0</td>\n",
       "      <td>0</td>\n",
       "      <td>1-2 Year</td>\n",
       "      <td>Yes</td>\n",
       "      <td>2630.0</td>\n",
       "      <td>156.0</td>\n",
       "      <td>76</td>\n",
       "      <td>0</td>\n",
       "    </tr>\n",
       "    <tr>\n",
       "      <th>4</th>\n",
       "      <td>4</td>\n",
       "      <td>Female</td>\n",
       "      <td>36</td>\n",
       "      <td>1</td>\n",
       "      <td>15.0</td>\n",
       "      <td>1</td>\n",
       "      <td>1-2 Year</td>\n",
       "      <td>No</td>\n",
       "      <td>31951.0</td>\n",
       "      <td>152.0</td>\n",
       "      <td>294</td>\n",
       "      <td>0</td>\n",
       "    </tr>\n",
       "  </tbody>\n",
       "</table>\n",
       "</div>"
      ],
      "text/plain": [
       "   id  Gender  Age  Driving_License  Region_Code  Previously_Insured  \\\n",
       "0   0    Male   21                1         35.0                   0   \n",
       "1   1    Male   43                1         28.0                   0   \n",
       "2   2  Female   25                1         14.0                   1   \n",
       "3   3  Female   35                1          1.0                   0   \n",
       "4   4  Female   36                1         15.0                   1   \n",
       "\n",
       "  Vehicle_Age Vehicle_Damage  Annual_Premium  Policy_Sales_Channel  Vintage  \\\n",
       "0    1-2 Year            Yes         65101.0                 124.0      187   \n",
       "1   > 2 Years            Yes         58911.0                  26.0      288   \n",
       "2    < 1 Year             No         38043.0                 152.0      254   \n",
       "3    1-2 Year            Yes          2630.0                 156.0       76   \n",
       "4    1-2 Year             No         31951.0                 152.0      294   \n",
       "\n",
       "   Response  \n",
       "0         0  \n",
       "1         1  \n",
       "2         0  \n",
       "3         0  \n",
       "4         0  "
      ]
     },
     "execution_count": 4,
     "metadata": {},
     "output_type": "execute_result"
    }
   ],
   "source": [
    "df.head()"
   ]
  },
  {
   "cell_type": "markdown",
   "id": "0503ffbf",
   "metadata": {
    "papermill": {
     "duration": 0.007088,
     "end_time": "2024-07-18T16:56:08.725320",
     "exception": false,
     "start_time": "2024-07-18T16:56:08.718232",
     "status": "completed"
    },
    "tags": []
   },
   "source": [
    "# EDA\n",
    "\n",
    "Six preactices\n",
    "\n",
    "1. Discovering\n",
    "2. Structuring\n",
    "3. Cleaning\n",
    "4. Joining\n",
    "5. Validating\n",
    "6. Presenting"
   ]
  },
  {
   "cell_type": "markdown",
   "id": "a3f68333",
   "metadata": {
    "papermill": {
     "duration": 0.006972,
     "end_time": "2024-07-18T16:56:08.739716",
     "exception": false,
     "start_time": "2024-07-18T16:56:08.732744",
     "status": "completed"
    },
    "tags": []
   },
   "source": [
    "## 1. Discovering\n",
    "\n",
    "We will start from Discovering to get familiar with the data\n",
    "following may be helpful functions in discovering\n",
    "\n",
    "- head()\n",
    "- sample()\n",
    "- size()\n",
    "- shape() "
   ]
  },
  {
   "cell_type": "code",
   "execution_count": 5,
   "id": "f8a0f9ac",
   "metadata": {
    "execution": {
     "iopub.execute_input": "2024-07-18T16:56:08.756257Z",
     "iopub.status.busy": "2024-07-18T16:56:08.755483Z",
     "iopub.status.idle": "2024-07-18T16:56:08.780219Z",
     "shell.execute_reply": "2024-07-18T16:56:08.779212Z"
    },
    "papermill": {
     "duration": 0.035472,
     "end_time": "2024-07-18T16:56:08.782482",
     "exception": false,
     "start_time": "2024-07-18T16:56:08.747010",
     "status": "completed"
    },
    "tags": []
   },
   "outputs": [
    {
     "name": "stdout",
     "output_type": "stream",
     "text": [
      "(11504798, 12)\n",
      "138057576\n",
      "<class 'pandas.core.frame.DataFrame'>\n",
      "RangeIndex: 11504798 entries, 0 to 11504797\n",
      "Data columns (total 12 columns):\n",
      " #   Column                Dtype  \n",
      "---  ------                -----  \n",
      " 0   id                    int64  \n",
      " 1   Gender                object \n",
      " 2   Age                   int64  \n",
      " 3   Driving_License       int64  \n",
      " 4   Region_Code           float64\n",
      " 5   Previously_Insured    int64  \n",
      " 6   Vehicle_Age           object \n",
      " 7   Vehicle_Damage        object \n",
      " 8   Annual_Premium        float64\n",
      " 9   Policy_Sales_Channel  float64\n",
      " 10  Vintage               int64  \n",
      " 11  Response              int64  \n",
      "dtypes: float64(3), int64(6), object(3)\n",
      "memory usage: 1.0+ GB\n",
      "None\n"
     ]
    }
   ],
   "source": [
    "print(df.shape)\n",
    "print(df.size)\n",
    "print(df.info())"
   ]
  },
  {
   "cell_type": "code",
   "execution_count": 6,
   "id": "dfda69b2",
   "metadata": {
    "execution": {
     "iopub.execute_input": "2024-07-18T16:56:08.801203Z",
     "iopub.status.busy": "2024-07-18T16:56:08.800780Z",
     "iopub.status.idle": "2024-07-18T16:56:12.476783Z",
     "shell.execute_reply": "2024-07-18T16:56:12.475762Z"
    },
    "papermill": {
     "duration": 3.687802,
     "end_time": "2024-07-18T16:56:12.479211",
     "exception": false,
     "start_time": "2024-07-18T16:56:08.791409",
     "status": "completed"
    },
    "tags": []
   },
   "outputs": [
    {
     "data": {
      "text/html": [
       "<div>\n",
       "<style scoped>\n",
       "    .dataframe tbody tr th:only-of-type {\n",
       "        vertical-align: middle;\n",
       "    }\n",
       "\n",
       "    .dataframe tbody tr th {\n",
       "        vertical-align: top;\n",
       "    }\n",
       "\n",
       "    .dataframe thead th {\n",
       "        text-align: right;\n",
       "    }\n",
       "</style>\n",
       "<table border=\"1\" class=\"dataframe\">\n",
       "  <thead>\n",
       "    <tr style=\"text-align: right;\">\n",
       "      <th></th>\n",
       "      <th>id</th>\n",
       "      <th>Age</th>\n",
       "      <th>Driving_License</th>\n",
       "      <th>Region_Code</th>\n",
       "      <th>Previously_Insured</th>\n",
       "      <th>Annual_Premium</th>\n",
       "      <th>Policy_Sales_Channel</th>\n",
       "      <th>Vintage</th>\n",
       "      <th>Response</th>\n",
       "    </tr>\n",
       "  </thead>\n",
       "  <tbody>\n",
       "    <tr>\n",
       "      <th>count</th>\n",
       "      <td>11504798.000</td>\n",
       "      <td>11504798.000</td>\n",
       "      <td>11504798.000</td>\n",
       "      <td>11504798.000</td>\n",
       "      <td>11504798.000</td>\n",
       "      <td>11504798.000</td>\n",
       "      <td>11504798.000</td>\n",
       "      <td>11504798.000</td>\n",
       "      <td>11504798.000</td>\n",
       "    </tr>\n",
       "    <tr>\n",
       "      <th>mean</th>\n",
       "      <td>5752398.500</td>\n",
       "      <td>38.384</td>\n",
       "      <td>0.998</td>\n",
       "      <td>26.419</td>\n",
       "      <td>0.463</td>\n",
       "      <td>30461.370</td>\n",
       "      <td>112.425</td>\n",
       "      <td>163.898</td>\n",
       "      <td>0.123</td>\n",
       "    </tr>\n",
       "    <tr>\n",
       "      <th>std</th>\n",
       "      <td>3321149.255</td>\n",
       "      <td>14.993</td>\n",
       "      <td>0.044</td>\n",
       "      <td>12.992</td>\n",
       "      <td>0.499</td>\n",
       "      <td>16454.745</td>\n",
       "      <td>54.036</td>\n",
       "      <td>79.980</td>\n",
       "      <td>0.328</td>\n",
       "    </tr>\n",
       "    <tr>\n",
       "      <th>min</th>\n",
       "      <td>0.000</td>\n",
       "      <td>20.000</td>\n",
       "      <td>0.000</td>\n",
       "      <td>0.000</td>\n",
       "      <td>0.000</td>\n",
       "      <td>2630.000</td>\n",
       "      <td>1.000</td>\n",
       "      <td>10.000</td>\n",
       "      <td>0.000</td>\n",
       "    </tr>\n",
       "    <tr>\n",
       "      <th>25%</th>\n",
       "      <td>2876199.250</td>\n",
       "      <td>24.000</td>\n",
       "      <td>1.000</td>\n",
       "      <td>15.000</td>\n",
       "      <td>0.000</td>\n",
       "      <td>25277.000</td>\n",
       "      <td>29.000</td>\n",
       "      <td>99.000</td>\n",
       "      <td>0.000</td>\n",
       "    </tr>\n",
       "    <tr>\n",
       "      <th>50%</th>\n",
       "      <td>5752398.500</td>\n",
       "      <td>36.000</td>\n",
       "      <td>1.000</td>\n",
       "      <td>28.000</td>\n",
       "      <td>0.000</td>\n",
       "      <td>31824.000</td>\n",
       "      <td>151.000</td>\n",
       "      <td>166.000</td>\n",
       "      <td>0.000</td>\n",
       "    </tr>\n",
       "    <tr>\n",
       "      <th>75%</th>\n",
       "      <td>8628597.750</td>\n",
       "      <td>49.000</td>\n",
       "      <td>1.000</td>\n",
       "      <td>35.000</td>\n",
       "      <td>1.000</td>\n",
       "      <td>39451.000</td>\n",
       "      <td>152.000</td>\n",
       "      <td>232.000</td>\n",
       "      <td>0.000</td>\n",
       "    </tr>\n",
       "    <tr>\n",
       "      <th>max</th>\n",
       "      <td>11504797.000</td>\n",
       "      <td>85.000</td>\n",
       "      <td>1.000</td>\n",
       "      <td>52.000</td>\n",
       "      <td>1.000</td>\n",
       "      <td>540165.000</td>\n",
       "      <td>163.000</td>\n",
       "      <td>299.000</td>\n",
       "      <td>1.000</td>\n",
       "    </tr>\n",
       "  </tbody>\n",
       "</table>\n",
       "</div>"
      ],
      "text/plain": [
       "                 id           Age Driving_License   Region_Code  \\\n",
       "count  11504798.000  11504798.000    11504798.000  11504798.000   \n",
       "mean    5752398.500        38.384           0.998        26.419   \n",
       "std     3321149.255        14.993           0.044        12.992   \n",
       "min           0.000        20.000           0.000         0.000   \n",
       "25%     2876199.250        24.000           1.000        15.000   \n",
       "50%     5752398.500        36.000           1.000        28.000   \n",
       "75%     8628597.750        49.000           1.000        35.000   \n",
       "max    11504797.000        85.000           1.000        52.000   \n",
       "\n",
       "      Previously_Insured Annual_Premium Policy_Sales_Channel       Vintage  \\\n",
       "count       11504798.000   11504798.000         11504798.000  11504798.000   \n",
       "mean               0.463      30461.370              112.425       163.898   \n",
       "std                0.499      16454.745               54.036        79.980   \n",
       "min                0.000       2630.000                1.000        10.000   \n",
       "25%                0.000      25277.000               29.000        99.000   \n",
       "50%                0.000      31824.000              151.000       166.000   \n",
       "75%                1.000      39451.000              152.000       232.000   \n",
       "max                1.000     540165.000              163.000       299.000   \n",
       "\n",
       "           Response  \n",
       "count  11504798.000  \n",
       "mean          0.123  \n",
       "std           0.328  \n",
       "min           0.000  \n",
       "25%           0.000  \n",
       "50%           0.000  \n",
       "75%           0.000  \n",
       "max           1.000  "
      ]
     },
     "execution_count": 6,
     "metadata": {},
     "output_type": "execute_result"
    }
   ],
   "source": [
    "df.describe().apply(lambda s: s.apply('{0:.3f}'.format))"
   ]
  },
  {
   "cell_type": "code",
   "execution_count": 7,
   "id": "5d9be87c",
   "metadata": {
    "execution": {
     "iopub.execute_input": "2024-07-18T16:56:12.497332Z",
     "iopub.status.busy": "2024-07-18T16:56:12.496917Z",
     "iopub.status.idle": "2024-07-18T16:56:12.502394Z",
     "shell.execute_reply": "2024-07-18T16:56:12.501098Z"
    },
    "papermill": {
     "duration": 0.017317,
     "end_time": "2024-07-18T16:56:12.504790",
     "exception": false,
     "start_time": "2024-07-18T16:56:12.487473",
     "status": "completed"
    },
    "tags": []
   },
   "outputs": [],
   "source": [
    "features_categorical = ['Gender', 'Driving_License', 'Region_Code', 'Vehicle_Age', 'Vehicle_Damage']\n",
    "features_numerical = ['Age', 'Region_Code', 'Previously_Insured', 'Annual_Premium', 'Policy_Sales_Channel', 'Vintage']"
   ]
  },
  {
   "cell_type": "markdown",
   "id": "1237a822",
   "metadata": {
    "papermill": {
     "duration": 0.007571,
     "end_time": "2024-07-18T16:56:12.520314",
     "exception": false,
     "start_time": "2024-07-18T16:56:12.512743",
     "status": "completed"
    },
    "tags": []
   },
   "source": [
    "### 1st iter of Discovering phase is completed"
   ]
  },
  {
   "cell_type": "markdown",
   "id": "8b136ba4",
   "metadata": {
    "papermill": {
     "duration": 0.008029,
     "end_time": "2024-07-18T16:56:12.536966",
     "exception": false,
     "start_time": "2024-07-18T16:56:12.528937",
     "status": "completed"
    },
    "tags": []
   },
   "source": [
    "## 2. Structuring\n",
    "structure for categorical and nuermical data"
   ]
  },
  {
   "cell_type": "markdown",
   "id": "41f732a1",
   "metadata": {
    "papermill": {
     "duration": 0.007445,
     "end_time": "2024-07-18T16:56:12.552298",
     "exception": false,
     "start_time": "2024-07-18T16:56:12.544853",
     "status": "completed"
    },
    "tags": []
   },
   "source": [
    "### Drop irrelevent columns i.e., ID"
   ]
  },
  {
   "cell_type": "code",
   "execution_count": 8,
   "id": "e0df5196",
   "metadata": {
    "execution": {
     "iopub.execute_input": "2024-07-18T16:56:12.569499Z",
     "iopub.status.busy": "2024-07-18T16:56:12.569125Z",
     "iopub.status.idle": "2024-07-18T16:56:13.202549Z",
     "shell.execute_reply": "2024-07-18T16:56:13.201567Z"
    },
    "papermill": {
     "duration": 0.645002,
     "end_time": "2024-07-18T16:56:13.205070",
     "exception": false,
     "start_time": "2024-07-18T16:56:12.560068",
     "status": "completed"
    },
    "tags": []
   },
   "outputs": [],
   "source": [
    "df = df.drop(columns='id')"
   ]
  },
  {
   "cell_type": "code",
   "execution_count": 9,
   "id": "157e12ac",
   "metadata": {
    "execution": {
     "iopub.execute_input": "2024-07-18T16:56:13.222551Z",
     "iopub.status.busy": "2024-07-18T16:56:13.222172Z",
     "iopub.status.idle": "2024-07-18T16:56:18.515664Z",
     "shell.execute_reply": "2024-07-18T16:56:18.514494Z"
    },
    "papermill": {
     "duration": 5.305208,
     "end_time": "2024-07-18T16:56:18.518282",
     "exception": false,
     "start_time": "2024-07-18T16:56:13.213074",
     "status": "completed"
    },
    "tags": []
   },
   "outputs": [
    {
     "name": "stdout",
     "output_type": "stream",
     "text": [
      "Unique categories for categorical features\n",
      "\n",
      "Gender: 2 unique categories \n",
      "['Male' 'Female']\n",
      "\n",
      "Driving_License: 2 unique categories \n",
      "[1 0]\n",
      "\n",
      "Region_Code: 54 unique categories \n",
      "[35.  28.  14.   1.  15.  47.  45.   8.  11.   3.  10.  12.  37.  50.\n",
      " 30.  46.  29.  16.  26.  25.  41.  48.   7.   4.  24.  36.  33.   2.\n",
      "  9.  27.  18.  43.  49.  17.  13.  38.   6.  21.  23.   0.  19.   5.\n",
      " 39.  44.  20.  40.  22.  32.  42.  31.  34.  51.  52.  39.2]\n",
      "\n",
      "Vehicle_Age: 3 unique categories \n",
      "['1-2 Year' '> 2 Years' '< 1 Year']\n",
      "\n",
      "Vehicle_Damage: 2 unique categories \n",
      "['Yes' 'No']\n",
      "\n"
     ]
    }
   ],
   "source": [
    "print('Unique categories for categorical features\\n')\n",
    "for col in df[features_categorical]:\n",
    "    print(\"{}: {} unique categories \\n{}\".format(col , len(df[col].unique()), df[col].unique()))\n",
    "    print()"
   ]
  },
  {
   "cell_type": "markdown",
   "id": "f16aa5c0",
   "metadata": {
    "papermill": {
     "duration": 0.008238,
     "end_time": "2024-07-18T16:56:18.535233",
     "exception": false,
     "start_time": "2024-07-18T16:56:18.526995",
     "status": "completed"
    },
    "tags": []
   },
   "source": [
    "We have done to figure out the categorical features by seeking the number of categroies each\n",
    "feature contains. \n",
    "\n",
    "It is found that except Region_Code, every categoircal features has two categories\n",
    "It is also seem that the category in Region_Code 39.2 is a mistake or outlier, lets check the frequency of 39.2 "
   ]
  },
  {
   "cell_type": "code",
   "execution_count": 10,
   "id": "5a9318a7",
   "metadata": {
    "execution": {
     "iopub.execute_input": "2024-07-18T16:56:18.554732Z",
     "iopub.status.busy": "2024-07-18T16:56:18.554322Z",
     "iopub.status.idle": "2024-07-18T16:56:18.755597Z",
     "shell.execute_reply": "2024-07-18T16:56:18.754592Z"
    },
    "papermill": {
     "duration": 0.214035,
     "end_time": "2024-07-18T16:56:18.757739",
     "exception": false,
     "start_time": "2024-07-18T16:56:18.543704",
     "status": "completed"
    },
    "tags": []
   },
   "outputs": [
    {
     "data": {
      "text/plain": [
       "1"
      ]
     },
     "execution_count": 10,
     "metadata": {},
     "output_type": "execute_result"
    }
   ],
   "source": [
    "code_392 = df.Region_Code.value_counts()\n",
    "code_392[39.2]"
   ]
  },
  {
   "cell_type": "markdown",
   "id": "4138f90b",
   "metadata": {
    "papermill": {
     "duration": 0.007993,
     "end_time": "2024-07-18T16:56:18.774105",
     "exception": false,
     "start_time": "2024-07-18T16:56:18.766112",
     "status": "completed"
    },
    "tags": []
   },
   "source": [
    "It is better for categorical features to be transferred to \"category\" data-type for all features\n",
    "that are float or other type"
   ]
  },
  {
   "cell_type": "code",
   "execution_count": 11,
   "id": "945db676",
   "metadata": {
    "execution": {
     "iopub.execute_input": "2024-07-18T16:56:18.792220Z",
     "iopub.status.busy": "2024-07-18T16:56:18.791796Z",
     "iopub.status.idle": "2024-07-18T16:56:22.802691Z",
     "shell.execute_reply": "2024-07-18T16:56:22.801532Z"
    },
    "papermill": {
     "duration": 4.022858,
     "end_time": "2024-07-18T16:56:22.805214",
     "exception": false,
     "start_time": "2024-07-18T16:56:18.782356",
     "status": "completed"
    },
    "tags": []
   },
   "outputs": [
    {
     "name": "stdout",
     "output_type": "stream",
     "text": [
      "<class 'pandas.core.frame.DataFrame'>\n",
      "RangeIndex: 11504798 entries, 0 to 11504797\n",
      "Data columns (total 11 columns):\n",
      " #   Column                Dtype   \n",
      "---  ------                -----   \n",
      " 0   Gender                category\n",
      " 1   Age                   int64   \n",
      " 2   Driving_License       category\n",
      " 3   Region_Code           category\n",
      " 4   Previously_Insured    int64   \n",
      " 5   Vehicle_Age           category\n",
      " 6   Vehicle_Damage        category\n",
      " 7   Annual_Premium        float64 \n",
      " 8   Policy_Sales_Channel  float64 \n",
      " 9   Vintage               int64   \n",
      " 10  Response              int64   \n",
      "dtypes: category(5), float64(2), int64(4)\n",
      "memory usage: 581.5 MB\n"
     ]
    }
   ],
   "source": [
    "df[features_categorical] = df[features_categorical].astype('category')\n",
    "df.info()\n",
    "# df['Vehicle_Age'].dtypes"
   ]
  },
  {
   "cell_type": "code",
   "execution_count": 12,
   "id": "02b58442",
   "metadata": {
    "execution": {
     "iopub.execute_input": "2024-07-18T16:56:22.823800Z",
     "iopub.status.busy": "2024-07-18T16:56:22.823434Z",
     "iopub.status.idle": "2024-07-18T16:56:32.385210Z",
     "shell.execute_reply": "2024-07-18T16:56:32.384037Z"
    },
    "papermill": {
     "duration": 9.573631,
     "end_time": "2024-07-18T16:56:32.387569",
     "exception": false,
     "start_time": "2024-07-18T16:56:22.813938",
     "status": "completed"
    },
    "tags": []
   },
   "outputs": [
    {
     "data": {
      "text/plain": [
       "Region_Code\n",
       "28    3451062\n",
       "8     1021036\n",
       "46     578208\n",
       "41     557581\n",
       "15     403977\n",
       "30     367307\n",
       "29     338146\n",
       "50     302334\n",
       "11     278261\n",
       "36     261946\n",
       "3      246303\n",
       "33     232387\n",
       "47     229190\n",
       "35     200035\n",
       "6      181122\n",
       "45     159292\n",
       "37     158976\n",
       "18     148548\n",
       "39     138069\n",
       "14     134585\n",
       "21     126793\n",
       "10     126081\n",
       "2      118097\n",
       "48     114230\n",
       "13     108838\n",
       "9       93371\n",
       "7       92240\n",
       "12      92142\n",
       "27      78878\n",
       "32      78797\n",
       "43      75868\n",
       "17      74533\n",
       "26      71228\n",
       "25      70556\n",
       "24      69136\n",
       "38      60587\n",
       "0       59274\n",
       "20      58765\n",
       "31      58442\n",
       "16      54905\n",
       "23      54518\n",
       "4       52504\n",
       "49      50822\n",
       "34      48685\n",
       "19      44197\n",
       "22      36932\n",
       "5       36832\n",
       "40      35888\n",
       "1       33966\n",
       "44      20305\n",
       "42      13693\n",
       "52       3450\n",
       "51       1880\n",
       "Name: count, dtype: int64"
      ]
     },
     "execution_count": 12,
     "metadata": {},
     "output_type": "execute_result"
    }
   ],
   "source": [
    "df['Region_Code'] = df['Region_Code'].astype(str).str[:-2]\n",
    "df['Region_Code'].value_counts()"
   ]
  },
  {
   "cell_type": "markdown",
   "id": "154035d7",
   "metadata": {
    "papermill": {
     "duration": 0.008776,
     "end_time": "2024-07-18T16:56:32.405174",
     "exception": false,
     "start_time": "2024-07-18T16:56:32.396398",
     "status": "completed"
    },
    "tags": []
   },
   "source": [
    "ah! we were right about the 39.2, its a mistakenly enetered region code. All other categoies have thousands of values.\n",
    "lets fix it in Region_Code 39.0"
   ]
  },
  {
   "cell_type": "markdown",
   "id": "c625f11d",
   "metadata": {
    "papermill": {
     "duration": 0.008436,
     "end_time": "2024-07-18T16:56:32.422235",
     "exception": false,
     "start_time": "2024-07-18T16:56:32.413799",
     "status": "completed"
    },
    "tags": []
   },
   "source": [
    "### Now we have 53 categories in Region_Code\n",
    "\n",
    "Moving further, Now part of the structuring phase we make some transformations in data.\n",
    "### 1. Transform to check frequencies of categorical features"
   ]
  },
  {
   "cell_type": "code",
   "execution_count": 13,
   "id": "5ba0085a",
   "metadata": {
    "execution": {
     "iopub.execute_input": "2024-07-18T16:56:32.441118Z",
     "iopub.status.busy": "2024-07-18T16:56:32.440701Z",
     "iopub.status.idle": "2024-07-18T16:56:33.567351Z",
     "shell.execute_reply": "2024-07-18T16:56:33.566250Z"
    },
    "papermill": {
     "duration": 1.139292,
     "end_time": "2024-07-18T16:56:33.570212",
     "exception": false,
     "start_time": "2024-07-18T16:56:32.430920",
     "status": "completed"
    },
    "tags": []
   },
   "outputs": [
    {
     "name": "stdout",
     "output_type": "stream",
     "text": [
      "Gender\n",
      "Male      6228134\n",
      "Female    5276664\n",
      "Name: count, dtype: int64\n",
      "Driving_License\n",
      "1    11482041\n",
      "0       22757\n",
      "Name: count, dtype: int64\n",
      "Region_Code\n",
      "28    3451062\n",
      "8     1021036\n",
      "46     578208\n",
      "41     557581\n",
      "15     403977\n",
      "30     367307\n",
      "29     338146\n",
      "50     302334\n",
      "11     278261\n",
      "36     261946\n",
      "3      246303\n",
      "33     232387\n",
      "47     229190\n",
      "35     200035\n",
      "6      181122\n",
      "45     159292\n",
      "37     158976\n",
      "18     148548\n",
      "39     138069\n",
      "14     134585\n",
      "21     126793\n",
      "10     126081\n",
      "2      118097\n",
      "48     114230\n",
      "13     108838\n",
      "9       93371\n",
      "7       92240\n",
      "12      92142\n",
      "27      78878\n",
      "32      78797\n",
      "43      75868\n",
      "17      74533\n",
      "26      71228\n",
      "25      70556\n",
      "24      69136\n",
      "38      60587\n",
      "0       59274\n",
      "20      58765\n",
      "31      58442\n",
      "16      54905\n",
      "23      54518\n",
      "4       52504\n",
      "49      50822\n",
      "34      48685\n",
      "19      44197\n",
      "22      36932\n",
      "5       36832\n",
      "40      35888\n",
      "1       33966\n",
      "44      20305\n",
      "42      13693\n",
      "52       3450\n",
      "51       1880\n",
      "Name: count, dtype: int64\n",
      "Vehicle_Age\n",
      "1-2 Year     5982678\n",
      "< 1 Year     5044145\n",
      "> 2 Years     477975\n",
      "Name: count, dtype: int64\n",
      "Vehicle_Damage\n",
      "Yes    5783229\n",
      "No     5721569\n",
      "Name: count, dtype: int64\n"
     ]
    }
   ],
   "source": [
    "for col in features_categorical:\n",
    "    print(df[col].value_counts())"
   ]
  },
  {
   "cell_type": "markdown",
   "id": "30a672e7",
   "metadata": {
    "papermill": {
     "duration": 0.008447,
     "end_time": "2024-07-18T16:56:33.587801",
     "exception": false,
     "start_time": "2024-07-18T16:56:33.579354",
     "status": "completed"
    },
    "tags": []
   },
   "source": [
    "From the above analysis, Driving_Lisence, Region_Code, Vehicle_Age and\n",
    "targeted variable Response are imbalanced categoies"
   ]
  },
  {
   "cell_type": "code",
   "execution_count": 14,
   "id": "138370b3",
   "metadata": {
    "execution": {
     "iopub.execute_input": "2024-07-18T16:56:33.607162Z",
     "iopub.status.busy": "2024-07-18T16:56:33.606737Z",
     "iopub.status.idle": "2024-07-18T16:56:36.175224Z",
     "shell.execute_reply": "2024-07-18T16:56:36.174031Z"
    },
    "papermill": {
     "duration": 2.5811,
     "end_time": "2024-07-18T16:56:36.177631",
     "exception": false,
     "start_time": "2024-07-18T16:56:33.596531",
     "status": "completed"
    },
    "tags": []
   },
   "outputs": [
    {
     "data": {
      "image/png": "[encoded data removed]",
      "text/plain": [
       "<Figure size 800x400 with 1 Axes>"
      ]
     },
     "metadata": {},
     "output_type": "display_data"
    },
    {
     "data": {
      "image/png": "[encoded data removed]",
      "text/plain": [
       "<Figure size 800x400 with 1 Axes>"
      ]
     },
     "metadata": {},
     "output_type": "display_data"
    },
    {
     "data": {
      "image/png": "[encoded data removed]",
      "text/plain": [
       "<Figure size 800x400 with 1 Axes>"
      ]
     },
     "metadata": {},
     "output_type": "display_data"
    },
    {
     "data": {
      "image/png": "[encoded data removed]",
      "text/plain": [
       "<Figure size 800x400 with 1 Axes>"
      ]
     },
     "metadata": {},
     "output_type": "display_data"
    },
    {
     "data": {
      "image/png": "[encoded data removed]",
      "text/plain": [
       "<Figure size 800x400 with 1 Axes>"
      ]
     },
     "metadata": {},
     "output_type": "display_data"
    },
    {
     "data": {
      "text/plain": [
       "'\\nThe best option for categorical features, categories count is to use df.plot(kind=barplot). with the other\\nbenifits, it aranges data for developer\\n'"
      ]
     },
     "execution_count": 14,
     "metadata": {},
     "output_type": "execute_result"
    }
   ],
   "source": [
    "for col in features_categorical:\n",
    "    df_barplot = df[col].value_counts()\n",
    "    df_barplot.plot(kind='bar', figsize=(8,4))\n",
    "    # plt.bar(x=df[col].value_counts().index, height=df[col].value_counts().values)`\n",
    "    plt.show()\n",
    "\"\"\"\n",
    "The best option for categorical features, categories count is to use df.plot(kind=barplot). with the other\n",
    "benifits, it aranges data for developer\n",
    "\"\"\""
   ]
  },
  {
   "cell_type": "code",
   "execution_count": 15,
   "id": "88e1fd2b",
   "metadata": {
    "execution": {
     "iopub.execute_input": "2024-07-18T16:56:36.200200Z",
     "iopub.status.busy": "2024-07-18T16:56:36.199797Z",
     "iopub.status.idle": "2024-07-18T16:56:39.975067Z",
     "shell.execute_reply": "2024-07-18T16:56:39.973937Z"
    },
    "papermill": {
     "duration": 3.789647,
     "end_time": "2024-07-18T16:56:39.977544",
     "exception": false,
     "start_time": "2024-07-18T16:56:36.187897",
     "status": "completed"
    },
    "tags": []
   },
   "outputs": [],
   "source": [
    "### Convert dategorical features to one hot enUnicodeWarning\n",
    "df_target = df['Response']\n",
    "df_features = pd.get_dummies(df.drop(columns = 'Response'), drop_first=True)"
   ]
  },
  {
   "cell_type": "code",
   "execution_count": 16,
   "id": "5d4cb3b1",
   "metadata": {
    "execution": {
     "iopub.execute_input": "2024-07-18T16:56:39.999501Z",
     "iopub.status.busy": "2024-07-18T16:56:39.999107Z",
     "iopub.status.idle": "2024-07-18T16:56:51.364000Z",
     "shell.execute_reply": "2024-07-18T16:56:51.362689Z"
    },
    "papermill": {
     "duration": 11.379314,
     "end_time": "2024-07-18T16:56:51.367030",
     "exception": false,
     "start_time": "2024-07-18T16:56:39.987716",
     "status": "completed"
    },
    "tags": []
   },
   "outputs": [],
   "source": [
    "X = df_features.copy()\n",
    "y = df_target\n",
    "\n",
    "X_train, X_val, y_train, y_val = train_test_split(X, y, test_size=0.25, stratify=y)"
   ]
  },
  {
   "cell_type": "code",
   "execution_count": 17,
   "id": "4806b039",
   "metadata": {
    "execution": {
     "iopub.execute_input": "2024-07-18T16:56:51.394626Z",
     "iopub.status.busy": "2024-07-18T16:56:51.393599Z",
     "iopub.status.idle": "2024-07-18T16:57:29.916087Z",
     "shell.execute_reply": "2024-07-18T16:57:29.914448Z"
    },
    "papermill": {
     "duration": 38.55082,
     "end_time": "2024-07-18T16:57:29.932552",
     "exception": false,
     "start_time": "2024-07-18T16:56:51.381732",
     "status": "completed"
    },
    "tags": []
   },
   "outputs": [
    {
     "name": "stdout",
     "output_type": "stream",
     "text": [
      "(11504798, 62)\n",
      "(8628598, 62)\n"
     ]
    }
   ],
   "source": [
    "scaler = MinMaxScaler()\n",
    "scaler.fit(X_train)\n",
    "X_train = scaler.transform(X_train)\n",
    "X_val = scaler.transform(X_val)\n",
    "\n",
    "print(df_features.shape)\n",
    "print(X_train.shape)"
   ]
  },
  {
   "cell_type": "code",
   "execution_count": 18,
   "id": "e4a18154",
   "metadata": {
    "execution": {
     "iopub.execute_input": "2024-07-18T16:57:29.956436Z",
     "iopub.status.busy": "2024-07-18T16:57:29.955331Z",
     "iopub.status.idle": "2024-07-18T16:57:43.200798Z",
     "shell.execute_reply": "2024-07-18T16:57:43.199768Z"
    },
    "papermill": {
     "duration": 13.260007,
     "end_time": "2024-07-18T16:57:43.203106",
     "exception": false,
     "start_time": "2024-07-18T16:57:29.943099",
     "status": "completed"
    },
    "tags": []
   },
   "outputs": [
    {
     "data": {
      "text/html": [
       "<style>#sk-container-id-1 {color: black;background-color: white;}#sk-container-id-1 pre{padding: 0;}#sk-container-id-1 div.sk-toggleable {background-color: white;}#sk-container-id-1 label.sk-toggleable__label {cursor: pointer;display: block;width: 100%;margin-bottom: 0;padding: 0.3em;box-sizing: border-box;text-align: center;}#sk-container-id-1 label.sk-toggleable__label-arrow:before {content: \"▸\";float: left;margin-right: 0.25em;color: #696969;}#sk-container-id-1 label.sk-toggleable__label-arrow:hover:before {color: black;}#sk-container-id-1 div.sk-estimator:hover label.sk-toggleable__label-arrow:before {color: black;}#sk-container-id-1 div.sk-toggleable__content {max-height: 0;max-width: 0;overflow: hidden;text-align: left;background-color: #f0f8ff;}#sk-container-id-1 div.sk-toggleable__content pre {margin: 0.2em;color: black;border-radius: 0.25em;background-color: #f0f8ff;}#sk-container-id-1 input.sk-toggleable__control:checked~div.sk-toggleable__content {max-height: 200px;max-width: 100%;overflow: auto;}#sk-container-id-1 input.sk-toggleable__control:checked~label.sk-toggleable__label-arrow:before {content: \"▾\";}#sk-container-id-1 div.sk-estimator input.sk-toggleable__control:checked~label.sk-toggleable__label {background-color: #d4ebff;}#sk-container-id-1 div.sk-label input.sk-toggleable__control:checked~label.sk-toggleable__label {background-color: #d4ebff;}#sk-container-id-1 input.sk-hidden--visually {border: 0;clip: rect(1px 1px 1px 1px);clip: rect(1px, 1px, 1px, 1px);height: 1px;margin: -1px;overflow: hidden;padding: 0;position: absolute;width: 1px;}#sk-container-id-1 div.sk-estimator {font-family: monospace;background-color: #f0f8ff;border: 1px dotted black;border-radius: 0.25em;box-sizing: border-box;margin-bottom: 0.5em;}#sk-container-id-1 div.sk-estimator:hover {background-color: #d4ebff;}#sk-container-id-1 div.sk-parallel-item::after {content: \"\";width: 100%;border-bottom: 1px solid gray;flex-grow: 1;}#sk-container-id-1 div.sk-label:hover label.sk-toggleable__label {background-color: #d4ebff;}#sk-container-id-1 div.sk-serial::before {content: \"\";position: absolute;border-left: 1px solid gray;box-sizing: border-box;top: 0;bottom: 0;left: 50%;z-index: 0;}#sk-container-id-1 div.sk-serial {display: flex;flex-direction: column;align-items: center;background-color: white;padding-right: 0.2em;padding-left: 0.2em;position: relative;}#sk-container-id-1 div.sk-item {position: relative;z-index: 1;}#sk-container-id-1 div.sk-parallel {display: flex;align-items: stretch;justify-content: center;background-color: white;position: relative;}#sk-container-id-1 div.sk-item::before, #sk-container-id-1 div.sk-parallel-item::before {content: \"\";position: absolute;border-left: 1px solid gray;box-sizing: border-box;top: 0;bottom: 0;left: 50%;z-index: -1;}#sk-container-id-1 div.sk-parallel-item {display: flex;flex-direction: column;z-index: 1;position: relative;background-color: white;}#sk-container-id-1 div.sk-parallel-item:first-child::after {align-self: flex-end;width: 50%;}#sk-container-id-1 div.sk-parallel-item:last-child::after {align-self: flex-start;width: 50%;}#sk-container-id-1 div.sk-parallel-item:only-child::after {width: 0;}#sk-container-id-1 div.sk-dashed-wrapped {border: 1px dashed gray;margin: 0 0.4em 0.5em 0.4em;box-sizing: border-box;padding-bottom: 0.4em;background-color: white;}#sk-container-id-1 div.sk-label label {font-family: monospace;font-weight: bold;display: inline-block;line-height: 1.2em;}#sk-container-id-1 div.sk-label-container {text-align: center;}#sk-container-id-1 div.sk-container {/* jupyter's `normalize.less` sets `[hidden] { display: none; }` but bootstrap.min.css set `[hidden] { display: none !important; }` so we also need the `!important` here to be able to override the default hidden behavior on the sphinx rendered scikit-learn.org. See: https://github.com/scikit-learn/scikit-learn/issues/21755 */display: inline-block !important;position: relative;}#sk-container-id-1 div.sk-text-repr-fallback {display: none;}</style><div id=\"sk-container-id-1\" class=\"sk-top-container\"><div class=\"sk-text-repr-fallback\"><pre>GaussianNB()</pre><b>In a Jupyter environment, please rerun this cell to show the HTML representation or trust the notebook. <br />On GitHub, the HTML representation is unable to render, please try loading this page with nbviewer.org.</b></div><div class=\"sk-container\" hidden><div class=\"sk-item\"><div class=\"sk-estimator sk-toggleable\"><input class=\"sk-toggleable__control sk-hidden--visually\" id=\"sk-estimator-id-1\" type=\"checkbox\" checked><label for=\"sk-estimator-id-1\" class=\"sk-toggleable__label sk-toggleable__label-arrow\">GaussianNB</label><div class=\"sk-toggleable__content\"><pre>GaussianNB()</pre></div></div></div></div></div>"
      ],
      "text/plain": [
       "GaussianNB()"
      ]
     },
     "execution_count": 18,
     "metadata": {},
     "output_type": "execute_result"
    }
   ],
   "source": [
    "gnb = GaussianNB()\n",
    "gnb.fit(X_train, y_train)"
   ]
  },
  {
   "cell_type": "code",
   "execution_count": 19,
   "id": "5f19e1e7",
   "metadata": {
    "execution": {
     "iopub.execute_input": "2024-07-18T16:57:43.226430Z",
     "iopub.status.busy": "2024-07-18T16:57:43.226026Z",
     "iopub.status.idle": "2024-07-18T16:57:46.285024Z",
     "shell.execute_reply": "2024-07-18T16:57:46.283764Z"
    },
    "papermill": {
     "duration": 3.07377,
     "end_time": "2024-07-18T16:57:46.287761",
     "exception": false,
     "start_time": "2024-07-18T16:57:43.213991",
     "status": "completed"
    },
    "tags": []
   },
   "outputs": [],
   "source": [
    "y_predict = gnb.predict_proba(X_val)\n",
    "y_predict_idxs = np.argmax(y_predict, axis=1)"
   ]
  },
  {
   "cell_type": "code",
   "execution_count": 20,
   "id": "a6d00992",
   "metadata": {
    "execution": {
     "iopub.execute_input": "2024-07-18T16:57:46.311860Z",
     "iopub.status.busy": "2024-07-18T16:57:46.310963Z",
     "iopub.status.idle": "2024-07-18T16:57:50.285917Z",
     "shell.execute_reply": "2024-07-18T16:57:50.284613Z"
    },
    "papermill": {
     "duration": 3.989543,
     "end_time": "2024-07-18T16:57:50.288319",
     "exception": false,
     "start_time": "2024-07-18T16:57:46.298776",
     "status": "completed"
    },
    "tags": []
   },
   "outputs": [
    {
     "name": "stdout",
     "output_type": "stream",
     "text": [
      "0.7969556061227085\n",
      "0.2789913621380811\n",
      "0.7217001599332452\n",
      "0.7540506919564101\n"
     ]
    }
   ],
   "source": [
    "print(recall_score(y_val, y_predict_idxs))\n",
    "print(precision_score(y_val, y_predict_idxs))\n",
    "print(accuracy_score(y_val, y_predict_idxs))\n",
    "print(roc_auc_score(y_val, y_predict_idxs))"
   ]
  },
  {
   "cell_type": "code",
   "execution_count": 21,
   "id": "f60bd7ae",
   "metadata": {
    "execution": {
     "iopub.execute_input": "2024-07-18T16:57:50.312360Z",
     "iopub.status.busy": "2024-07-18T16:57:50.311967Z",
     "iopub.status.idle": "2024-07-18T16:57:50.329231Z",
     "shell.execute_reply": "2024-07-18T16:57:50.328124Z"
    },
    "papermill": {
     "duration": 0.031603,
     "end_time": "2024-07-18T16:57:50.331308",
     "exception": false,
     "start_time": "2024-07-18T16:57:50.299705",
     "status": "completed"
    },
    "tags": []
   },
   "outputs": [
    {
     "data": {
      "text/html": [
       "<div>\n",
       "<style scoped>\n",
       "    .dataframe tbody tr th:only-of-type {\n",
       "        vertical-align: middle;\n",
       "    }\n",
       "\n",
       "    .dataframe tbody tr th {\n",
       "        vertical-align: top;\n",
       "    }\n",
       "\n",
       "    .dataframe thead th {\n",
       "        text-align: right;\n",
       "    }\n",
       "</style>\n",
       "<table border=\"1\" class=\"dataframe\">\n",
       "  <thead>\n",
       "    <tr style=\"text-align: right;\">\n",
       "      <th></th>\n",
       "      <th>id</th>\n",
       "      <th>Gender</th>\n",
       "      <th>Age</th>\n",
       "      <th>Driving_License</th>\n",
       "      <th>Region_Code</th>\n",
       "      <th>Previously_Insured</th>\n",
       "      <th>Vehicle_Age</th>\n",
       "      <th>Vehicle_Damage</th>\n",
       "      <th>Annual_Premium</th>\n",
       "      <th>Policy_Sales_Channel</th>\n",
       "      <th>Vintage</th>\n",
       "    </tr>\n",
       "  </thead>\n",
       "  <tbody>\n",
       "    <tr>\n",
       "      <th>0</th>\n",
       "      <td>11504798</td>\n",
       "      <td>Female</td>\n",
       "      <td>20</td>\n",
       "      <td>1</td>\n",
       "      <td>47.0</td>\n",
       "      <td>0</td>\n",
       "      <td>&lt; 1 Year</td>\n",
       "      <td>No</td>\n",
       "      <td>2630.0</td>\n",
       "      <td>160.0</td>\n",
       "      <td>228</td>\n",
       "    </tr>\n",
       "    <tr>\n",
       "      <th>1</th>\n",
       "      <td>11504799</td>\n",
       "      <td>Male</td>\n",
       "      <td>47</td>\n",
       "      <td>1</td>\n",
       "      <td>28.0</td>\n",
       "      <td>0</td>\n",
       "      <td>1-2 Year</td>\n",
       "      <td>Yes</td>\n",
       "      <td>37483.0</td>\n",
       "      <td>124.0</td>\n",
       "      <td>123</td>\n",
       "    </tr>\n",
       "    <tr>\n",
       "      <th>2</th>\n",
       "      <td>11504800</td>\n",
       "      <td>Male</td>\n",
       "      <td>47</td>\n",
       "      <td>1</td>\n",
       "      <td>43.0</td>\n",
       "      <td>0</td>\n",
       "      <td>1-2 Year</td>\n",
       "      <td>Yes</td>\n",
       "      <td>2630.0</td>\n",
       "      <td>26.0</td>\n",
       "      <td>271</td>\n",
       "    </tr>\n",
       "    <tr>\n",
       "      <th>3</th>\n",
       "      <td>11504801</td>\n",
       "      <td>Female</td>\n",
       "      <td>22</td>\n",
       "      <td>1</td>\n",
       "      <td>47.0</td>\n",
       "      <td>1</td>\n",
       "      <td>&lt; 1 Year</td>\n",
       "      <td>No</td>\n",
       "      <td>24502.0</td>\n",
       "      <td>152.0</td>\n",
       "      <td>115</td>\n",
       "    </tr>\n",
       "    <tr>\n",
       "      <th>4</th>\n",
       "      <td>11504802</td>\n",
       "      <td>Male</td>\n",
       "      <td>51</td>\n",
       "      <td>1</td>\n",
       "      <td>19.0</td>\n",
       "      <td>0</td>\n",
       "      <td>1-2 Year</td>\n",
       "      <td>No</td>\n",
       "      <td>34115.0</td>\n",
       "      <td>124.0</td>\n",
       "      <td>148</td>\n",
       "    </tr>\n",
       "  </tbody>\n",
       "</table>\n",
       "</div>"
      ],
      "text/plain": [
       "         id  Gender  Age  Driving_License  Region_Code  Previously_Insured  \\\n",
       "0  11504798  Female   20                1         47.0                   0   \n",
       "1  11504799    Male   47                1         28.0                   0   \n",
       "2  11504800    Male   47                1         43.0                   0   \n",
       "3  11504801  Female   22                1         47.0                   1   \n",
       "4  11504802    Male   51                1         19.0                   0   \n",
       "\n",
       "  Vehicle_Age Vehicle_Damage  Annual_Premium  Policy_Sales_Channel  Vintage  \n",
       "0    < 1 Year             No          2630.0                 160.0      228  \n",
       "1    1-2 Year            Yes         37483.0                 124.0      123  \n",
       "2    1-2 Year            Yes          2630.0                  26.0      271  \n",
       "3    < 1 Year             No         24502.0                 152.0      115  \n",
       "4    1-2 Year             No         34115.0                 124.0      148  "
      ]
     },
     "execution_count": 21,
     "metadata": {},
     "output_type": "execute_result"
    }
   ],
   "source": [
    "df_test.head()"
   ]
  },
  {
   "cell_type": "code",
   "execution_count": 22,
   "id": "c050c48a",
   "metadata": {
    "execution": {
     "iopub.execute_input": "2024-07-18T16:57:50.356058Z",
     "iopub.status.busy": "2024-07-18T16:57:50.355001Z",
     "iopub.status.idle": "2024-07-18T16:58:01.998264Z",
     "shell.execute_reply": "2024-07-18T16:58:01.997144Z"
    },
    "papermill": {
     "duration": 11.658341,
     "end_time": "2024-07-18T16:58:02.001016",
     "exception": false,
     "start_time": "2024-07-18T16:57:50.342675",
     "status": "completed"
    },
    "tags": []
   },
   "outputs": [],
   "source": [
    "df_test = df_test.drop(columns='id')\n",
    "df_test[features_categorical] = df_test[features_categorical].astype('category')\n",
    "df_test['Region_Code'] = df_test['Region_Code'].astype(str).str[:-2]\n",
    "df_test = pd.get_dummies(df_test, drop_first=True)"
   ]
  },
  {
   "cell_type": "code",
   "execution_count": 23,
   "id": "101b85fe",
   "metadata": {
    "execution": {
     "iopub.execute_input": "2024-07-18T16:58:02.025128Z",
     "iopub.status.busy": "2024-07-18T16:58:02.024704Z",
     "iopub.status.idle": "2024-07-18T16:58:31.886189Z",
     "shell.execute_reply": "2024-07-18T16:58:31.885018Z"
    },
    "papermill": {
     "duration": 29.876412,
     "end_time": "2024-07-18T16:58:31.888893",
     "exception": false,
     "start_time": "2024-07-18T16:58:02.012481",
     "status": "completed"
    },
    "tags": []
   },
   "outputs": [],
   "source": [
    "X_test = df_test.copy()\n",
    "X_test = scaler.transform(X_test)\n",
    "y_pred = gnb.predict_proba(X_test)"
   ]
  },
  {
   "cell_type": "code",
   "execution_count": 24,
   "id": "d81d60f1",
   "metadata": {
    "execution": {
     "iopub.execute_input": "2024-07-18T16:58:31.914141Z",
     "iopub.status.busy": "2024-07-18T16:58:31.913037Z",
     "iopub.status.idle": "2024-07-18T16:58:53.198077Z",
     "shell.execute_reply": "2024-07-18T16:58:53.196875Z"
    },
    "papermill": {
     "duration": 21.300131,
     "end_time": "2024-07-18T16:58:53.200612",
     "exception": false,
     "start_time": "2024-07-18T16:58:31.900481",
     "status": "completed"
    },
    "tags": []
   },
   "outputs": [],
   "source": [
    "df_submission['Response'] = y_pred[:,1]\n",
    "df_submission.head()\n",
    "df_submission.to_csv('submission_naive_bayes_2.csv', index=False)"
   ]
  },
  {
   "cell_type": "code",
   "execution_count": null,
   "id": "a1311e0f",
   "metadata": {
    "papermill": {
     "duration": 0.010763,
     "end_time": "2024-07-18T16:58:53.222929",
     "exception": false,
     "start_time": "2024-07-18T16:58:53.212166",
     "status": "completed"
    },
    "tags": []
   },
   "outputs": [],
   "source": []
  }
 ],
 "metadata": {
  "kaggle": {
   "accelerator": "none",
   "dataSources": [
    {
     "databundleVersionId": 8930475,
     "sourceId": 73291,
     "sourceType": "competition"
    }
   ],
   "dockerImageVersionId": 30746,
   "isGpuEnabled": false,
   "isInternetEnabled": true,
   "language": "python",
   "sourceType": "notebook"
  },
  "kernelspec": {
   "display_name": "Python 3",
   "language": "python",
   "name": "python3"
  },
  "language_info": {
   "codemirror_mode": {
    "name": "ipython",
    "version": 3
   },
   "file_extension": ".py",
   "mimetype": "text/x-python",
   "name": "python",
   "nbconvert_exporter": "python",
   "pygments_lexer": "ipython3",
   "version": "3.10.13"
  },
  "papermill": {
   "default_parameters": {},
   "duration": 204.806168,
   "end_time": "2024-07-18T16:58:54.359325",
   "environment_variables": {},
   "exception": null,
   "input_path": "__notebook__.ipynb",
   "output_path": "__notebook__.ipynb",
   "parameters": {},
   "start_time": "2024-07-18T16:55:29.553157",
   "version": "2.5.0"
  }
 },
 "nbformat": 4,
 "nbformat_minor": 5
}
